{
 "cells": [
  {
   "cell_type": "markdown",
   "id": "df372dac-6121-4fce-ba6e-46c6122f14a3",
   "metadata": {},
   "source": [
    "# Loading the datasets into Pandas"
   ]
  },
  {
   "cell_type": "code",
   "execution_count": 18,
   "id": "8ac496ae-a8f5-4485-ab18-79a343775674",
   "metadata": {},
   "outputs": [],
   "source": [
    "import pandas as pd\n",
    "import numpy as np\n",
    "\n",
    "house_prices = pd.read_csv(\"data/MedianPricesofExistingDetachedHomesHistoricalData.csv\")"
   ]
  },
  {
   "cell_type": "markdown",
   "id": "4e7be121-7348-4f58-bef8-d2299b410797",
   "metadata": {},
   "source": [
    "# Data Preprocessing"
   ]
  },
  {
   "cell_type": "code",
   "execution_count": 24,
   "id": "5a8ffa75-bc70-480e-b50e-65fe6ba0ed58",
   "metadata": {},
   "outputs": [
    {
     "name": "stdout",
     "output_type": "stream",
     "text": [
      "Shape of the DataFrame: (408, 111)\n",
      "Number of observations: 408\n",
      "Last meaningful column: SoCal\n"
     ]
    }
   ],
   "source": [
    "print(f'Shape of the DataFrame: {house_prices.shape}')\n",
    "print(f'Number of observations: {house_prices.shape[0]}')\n",
    "print(f'Last meaningful column: {house_prices.columns[62]}')"
   ]
  },
  {
   "cell_type": "markdown",
   "id": "1843a170-0045-412a-ab70-8e55c6f4efa5",
   "metadata": {},
   "source": [
    "The last meaningful column in this dataset is labeled 'SoCal' which is column number 62. Everything else after that is garbage which we need to delete."
   ]
  },
  {
   "cell_type": "code",
   "execution_count": 42,
   "id": "2a26b02a-2e4e-42c4-bc95-35fe2c83649e",
   "metadata": {},
   "outputs": [
    {
     "name": "stdout",
     "output_type": "stream",
     "text": [
      "New shape: (408, 63)\n"
     ]
    }
   ],
   "source": [
    "cols = house_prices.columns.tolist()\n",
    "house_prices = house_prices.loc[:, ~house_prices.columns.isin(cols[63:])]\n",
    "\n",
    "print(f'New shape: {house_prices.shape}')"
   ]
  }
 ],
 "metadata": {
  "kernelspec": {
   "display_name": "Python 3 (ipykernel)",
   "language": "python",
   "name": "python3"
  },
  "language_info": {
   "codemirror_mode": {
    "name": "ipython",
    "version": 3
   },
   "file_extension": ".py",
   "mimetype": "text/x-python",
   "name": "python",
   "nbconvert_exporter": "python",
   "pygments_lexer": "ipython3",
   "version": "3.10.9"
  }
 },
 "nbformat": 4,
 "nbformat_minor": 5
}
